{
 "cells": [
  {
   "cell_type": "code",
   "execution_count": 32,
   "metadata": {
    "collapsed": false
   },
   "outputs": [
    {
     "name": "stdout",
     "output_type": "stream",
     "text": [
      "0.8986\n"
     ]
    }
   ],
   "source": [
    "import numpy as np\n",
    "from sklearn.linear_model import LogisticRegression\n",
    "from six.moves import cPickle as pickle\n",
    "\n",
    "\n",
    "f = open('/Users/RickardMaus/Documents/notMNIST/notMNIST.pickle', 'rb')\n",
    "h = pickle.load(f)\n",
    "\n",
    "train_dataset = h['train_dataset']\n",
    "train_labels = h['train_labels']\n",
    "test_dataset = h['test_dataset']\n",
    "test_labels = h['test_labels']\n",
    "\n",
    "nsamples, nx, ny = train_dataset.shape\n",
    "ntrain_dataset = train_dataset.reshape((nsamples,nx*ny))\n",
    "\n",
    "nsamples, nx, ny = test_dataset.shape\n",
    "ntest_dataset = test_dataset.reshape((nsamples,nx*ny))\n",
    "\n",
    "\n",
    "clf = LogisticRegression(multi_class='multinomial', penalty='l2', solver='sag', tol=0.05)\n",
    "\n",
    "clf.fit(ntrain_dataset, train_labels)\n",
    "score = clf.score(ntest_dataset, test_labels)\n",
    "\n",
    "print(score)\n",
    "\n",
    "\n",
    "\n"
   ]
  },
  {
   "cell_type": "code",
   "execution_count": 25,
   "metadata": {
    "collapsed": false
   },
   "outputs": [
    {
     "data": {
      "text/plain": [
       "0.8946"
      ]
     },
     "execution_count": 25,
     "metadata": {},
     "output_type": "execute_result"
    }
   ],
   "source": [
    "\"tol = 0.1\"\n",
    "0.8946\n",
    "0.8944\n",
    "0.8960\n",
    "0.8923\n",
    "0.8990\n",
    "\n",
    "\"tol = 0.05\"\n",
    "0.8991\n",
    "0.8987\n"
   ]
  },
  {
   "cell_type": "code",
   "execution_count": null,
   "metadata": {
    "collapsed": true
   },
   "outputs": [],
   "source": []
  }
 ],
 "metadata": {
  "kernelspec": {
   "display_name": "Python 3",
   "language": "python",
   "name": "python3"
  },
  "language_info": {
   "codemirror_mode": {
    "name": "ipython",
    "version": 3
   },
   "file_extension": ".py",
   "mimetype": "text/x-python",
   "name": "python",
   "nbconvert_exporter": "python",
   "pygments_lexer": "ipython3",
   "version": "3.6.0"
  }
 },
 "nbformat": 4,
 "nbformat_minor": 2
}
